{
 "cells": [
  {
   "cell_type": "code",
   "execution_count": 2,
   "metadata": {},
   "outputs": [],
   "source": [
    "import pymysql\n",
    "import pandas as pd\n",
    "import numpy as np\n",
    "import matplotlib as mp\n",
    "from sqlalchemy import create_engine\n",
    "import sqlalchemy\n",
    "from sqlalchemy.ext.declarative import declarative_base\n",
    "from sqlalchemy import Column, Integer, String, Numeric, Text, Float, ForeignKey, func\n",
    "from sqlalchemy.orm import sessionmaker, relationship, Session\n",
    "from sqlalchemy.ext.automap import automap_base\n",
    "import os"
   ]
  },
  {
   "cell_type": "markdown",
   "metadata": {},
   "source": [
    "## Load Files"
   ]
  },
  {
   "cell_type": "code",
   "execution_count": 3,
   "metadata": {},
   "outputs": [
    {
     "data": {
      "text/plain": [
       "'C:\\\\Users\\\\Ryan\\\\OneDrive - ogg.com\\\\DU_class\\\\Caffeine-Project\\\\Caffeine'"
      ]
     },
     "execution_count": 3,
     "metadata": {},
     "output_type": "execute_result"
    }
   ],
   "source": [
    "pwd"
   ]
  },
  {
   "cell_type": "code",
   "execution_count": 4,
   "metadata": {},
   "outputs": [],
   "source": [
    "csv1 = \"CSVs/All_drink_info.csv\"\n",
    "csv2 = \"CSVs/Caffeine_intensity.csv\"\n",
    "csv3 = \"CSVs/Workout Supps.csv\"\n",
    "csv4 = \"CSVs/Food.csv\"\n",
    "csv5 = \"CSVs/Gum.csv\""
   ]
  },
  {
   "cell_type": "markdown",
   "metadata": {},
   "source": [
    "## Preview Files"
   ]
  },
  {
   "cell_type": "code",
   "execution_count": 5,
   "metadata": {},
   "outputs": [],
   "source": [
    "alldrinks = pd.read_csv(csv1)\n",
    "caff_int = pd.read_csv(csv2)\n",
    "supps = pd.read_csv(csv3)\n",
    "food = pd.read_csv(csv4)\n",
    "gum = pd.read_csv(csv5)"
   ]
  },
  {
   "cell_type": "code",
   "execution_count": 6,
   "metadata": {},
   "outputs": [
    {
     "data": {
      "text/html": [
       "<div>\n",
       "<style scoped>\n",
       "    .dataframe tbody tr th:only-of-type {\n",
       "        vertical-align: middle;\n",
       "    }\n",
       "\n",
       "    .dataframe tbody tr th {\n",
       "        vertical-align: top;\n",
       "    }\n",
       "\n",
       "    .dataframe thead th {\n",
       "        text-align: right;\n",
       "    }\n",
       "</style>\n",
       "<table border=\"1\" class=\"dataframe\">\n",
       "  <thead>\n",
       "    <tr style=\"text-align: right;\">\n",
       "      <th></th>\n",
       "      <th>drinks</th>\n",
       "      <th>caff_cont</th>\n",
       "      <th>fluid_oz</th>\n",
       "      <th>mg_per_oz</th>\n",
       "      <th>url</th>\n",
       "    </tr>\n",
       "  </thead>\n",
       "  <tbody>\n",
       "    <tr>\n",
       "      <th>0</th>\n",
       "      <td>10 Hour Energy Shot</td>\n",
       "      <td>422</td>\n",
       "      <td>1.93</td>\n",
       "      <td>218.7</td>\n",
       "      <td>https://www.caffeineinformer.com/caffeine-cont...</td>\n",
       "    </tr>\n",
       "    <tr>\n",
       "      <th>1</th>\n",
       "      <td>28 Black Energy Drink</td>\n",
       "      <td>80</td>\n",
       "      <td>8.46</td>\n",
       "      <td>9.5</td>\n",
       "      <td>https://www.caffeineinformer.com/caffeine-cont...</td>\n",
       "    </tr>\n",
       "    <tr>\n",
       "      <th>2</th>\n",
       "      <td>3 Water</td>\n",
       "      <td>50</td>\n",
       "      <td>16.90</td>\n",
       "      <td>3.0</td>\n",
       "      <td>https://www.caffeineinformer.com/caffeine-cont...</td>\n",
       "    </tr>\n",
       "    <tr>\n",
       "      <th>3</th>\n",
       "      <td>3D Energy Drink</td>\n",
       "      <td>200</td>\n",
       "      <td>16.00</td>\n",
       "      <td>12.5</td>\n",
       "      <td>https://www.caffeineinformer.com/caffeine-cont...</td>\n",
       "    </tr>\n",
       "    <tr>\n",
       "      <th>4</th>\n",
       "      <td>4 Purpose Energy Drink</td>\n",
       "      <td>70</td>\n",
       "      <td>8.46</td>\n",
       "      <td>8.3</td>\n",
       "      <td>https://www.caffeineinformer.com/caffeine-cont...</td>\n",
       "    </tr>\n",
       "  </tbody>\n",
       "</table>\n",
       "</div>"
      ],
      "text/plain": [
       "                   drinks  caff_cont  fluid_oz  mg_per_oz  \\\n",
       "0     10 Hour Energy Shot        422      1.93      218.7   \n",
       "1   28 Black Energy Drink         80      8.46        9.5   \n",
       "2                3 Water          50     16.90        3.0   \n",
       "3         3D Energy Drink        200     16.00       12.5   \n",
       "4  4 Purpose Energy Drink         70      8.46        8.3   \n",
       "\n",
       "                                                 url  \n",
       "0  https://www.caffeineinformer.com/caffeine-cont...  \n",
       "1  https://www.caffeineinformer.com/caffeine-cont...  \n",
       "2  https://www.caffeineinformer.com/caffeine-cont...  \n",
       "3  https://www.caffeineinformer.com/caffeine-cont...  \n",
       "4  https://www.caffeineinformer.com/caffeine-cont...  "
      ]
     },
     "execution_count": 6,
     "metadata": {},
     "output_type": "execute_result"
    }
   ],
   "source": [
    "alldrinks.head()"
   ]
  },
  {
   "cell_type": "code",
   "execution_count": 7,
   "metadata": {},
   "outputs": [
    {
     "data": {
      "text/html": [
       "<div>\n",
       "<style scoped>\n",
       "    .dataframe tbody tr th:only-of-type {\n",
       "        vertical-align: middle;\n",
       "    }\n",
       "\n",
       "    .dataframe tbody tr th {\n",
       "        vertical-align: top;\n",
       "    }\n",
       "\n",
       "    .dataframe thead th {\n",
       "        text-align: right;\n",
       "    }\n",
       "</style>\n",
       "<table border=\"1\" class=\"dataframe\">\n",
       "  <thead>\n",
       "    <tr style=\"text-align: right;\">\n",
       "      <th></th>\n",
       "      <th>caff_str</th>\n",
       "      <th>item_img</th>\n",
       "      <th>drink_name</th>\n",
       "    </tr>\n",
       "  </thead>\n",
       "  <tbody>\n",
       "    <tr>\n",
       "      <th>0</th>\n",
       "      <td>DANGEROUS</td>\n",
       "      <td>https://caffeineinformer.com/wp-content/caffei...</td>\n",
       "      <td>10 Hour Energy Shot</td>\n",
       "    </tr>\n",
       "    <tr>\n",
       "      <th>1</th>\n",
       "      <td>MODERATE</td>\n",
       "      <td>https://caffeineinformer.com/wp-content/caffei...</td>\n",
       "      <td>28 Black Energy Drink</td>\n",
       "    </tr>\n",
       "    <tr>\n",
       "      <th>2</th>\n",
       "      <td>MODERATE</td>\n",
       "      <td>https://caffeineinformer.com/wp-content/caffei...</td>\n",
       "      <td>3 Water</td>\n",
       "    </tr>\n",
       "    <tr>\n",
       "      <th>3</th>\n",
       "      <td>VERY HIGH</td>\n",
       "      <td>https://caffeineinformer.com/wp-content/caffei...</td>\n",
       "      <td>3D Energy Drink</td>\n",
       "    </tr>\n",
       "    <tr>\n",
       "      <th>4</th>\n",
       "      <td>MODERATE</td>\n",
       "      <td>https://caffeineinformer.com/wp-content/caffei...</td>\n",
       "      <td>4-Purpose</td>\n",
       "    </tr>\n",
       "  </tbody>\n",
       "</table>\n",
       "</div>"
      ],
      "text/plain": [
       "    caff_str                                           item_img  \\\n",
       "0  DANGEROUS  https://caffeineinformer.com/wp-content/caffei...   \n",
       "1   MODERATE  https://caffeineinformer.com/wp-content/caffei...   \n",
       "2   MODERATE  https://caffeineinformer.com/wp-content/caffei...   \n",
       "3  VERY HIGH  https://caffeineinformer.com/wp-content/caffei...   \n",
       "4   MODERATE  https://caffeineinformer.com/wp-content/caffei...   \n",
       "\n",
       "              drink_name  \n",
       "0    10 Hour Energy Shot  \n",
       "1  28 Black Energy Drink  \n",
       "2                3 Water  \n",
       "3        3D Energy Drink  \n",
       "4              4-Purpose  "
      ]
     },
     "execution_count": 7,
     "metadata": {},
     "output_type": "execute_result"
    }
   ],
   "source": [
    "caff_int.head()"
   ]
  },
  {
   "cell_type": "code",
   "execution_count": 8,
   "metadata": {},
   "outputs": [
    {
     "data": {
      "text/html": [
       "<div>\n",
       "<style scoped>\n",
       "    .dataframe tbody tr th:only-of-type {\n",
       "        vertical-align: middle;\n",
       "    }\n",
       "\n",
       "    .dataframe tbody tr th {\n",
       "        vertical-align: top;\n",
       "    }\n",
       "\n",
       "    .dataframe thead th {\n",
       "        text-align: right;\n",
       "    }\n",
       "</style>\n",
       "<table border=\"1\" class=\"dataframe\">\n",
       "  <thead>\n",
       "    <tr style=\"text-align: right;\">\n",
       "      <th></th>\n",
       "      <th>supp</th>\n",
       "      <th>caff_source</th>\n",
       "      <th>serving_size</th>\n",
       "      <th>caff</th>\n",
       "    </tr>\n",
       "  </thead>\n",
       "  <tbody>\n",
       "    <tr>\n",
       "      <th>0</th>\n",
       "      <td>ABB Speed Stacked Pumped</td>\n",
       "      <td>Caffeine Anhydrous, Guarana</td>\n",
       "      <td>bottle</td>\n",
       "      <td>300</td>\n",
       "    </tr>\n",
       "    <tr>\n",
       "      <th>1</th>\n",
       "      <td>About Time AUX</td>\n",
       "      <td>Yerba Mate’, Guarana, Green Tea</td>\n",
       "      <td>scoop</td>\n",
       "      <td>60</td>\n",
       "    </tr>\n",
       "    <tr>\n",
       "      <th>2</th>\n",
       "      <td>BANG Energy Drink</td>\n",
       "      <td>Caffeine Anhydrous</td>\n",
       "      <td>can</td>\n",
       "      <td>300</td>\n",
       "    </tr>\n",
       "    <tr>\n",
       "      <th>3</th>\n",
       "      <td>Hyde Power Potion</td>\n",
       "      <td>Caffeine Anhydrous</td>\n",
       "      <td>can</td>\n",
       "      <td>350</td>\n",
       "    </tr>\n",
       "    <tr>\n",
       "      <th>4</th>\n",
       "      <td>BPI B4</td>\n",
       "      <td>Caffeine Anhydrous</td>\n",
       "      <td>capsule</td>\n",
       "      <td>300</td>\n",
       "    </tr>\n",
       "  </tbody>\n",
       "</table>\n",
       "</div>"
      ],
      "text/plain": [
       "                       supp                      caff_source serving_size  \\\n",
       "0  ABB Speed Stacked Pumped      Caffeine Anhydrous, Guarana       bottle   \n",
       "1            About Time AUX  Yerba Mate’, Guarana, Green Tea        scoop   \n",
       "2         BANG Energy Drink               Caffeine Anhydrous          can   \n",
       "3         Hyde Power Potion               Caffeine Anhydrous          can   \n",
       "4                    BPI B4               Caffeine Anhydrous      capsule   \n",
       "\n",
       "   caff  \n",
       "0   300  \n",
       "1    60  \n",
       "2   300  \n",
       "3   350  \n",
       "4   300  "
      ]
     },
     "execution_count": 8,
     "metadata": {},
     "output_type": "execute_result"
    }
   ],
   "source": [
    "supps.head()"
   ]
  },
  {
   "cell_type": "code",
   "execution_count": 9,
   "metadata": {},
   "outputs": [
    {
     "data": {
      "text/plain": [
       "supp            object\n",
       "caff_source     object\n",
       "serving_size    object\n",
       "caff             int64\n",
       "dtype: object"
      ]
     },
     "execution_count": 9,
     "metadata": {},
     "output_type": "execute_result"
    }
   ],
   "source": [
    "supps.dtypes"
   ]
  },
  {
   "cell_type": "code",
   "execution_count": 10,
   "metadata": {},
   "outputs": [
    {
     "data": {
      "text/html": [
       "<div>\n",
       "<style scoped>\n",
       "    .dataframe tbody tr th:only-of-type {\n",
       "        vertical-align: middle;\n",
       "    }\n",
       "\n",
       "    .dataframe tbody tr th {\n",
       "        vertical-align: top;\n",
       "    }\n",
       "\n",
       "    .dataframe thead th {\n",
       "        text-align: right;\n",
       "    }\n",
       "</style>\n",
       "<table border=\"1\" class=\"dataframe\">\n",
       "  <thead>\n",
       "    <tr style=\"text-align: right;\">\n",
       "      <th></th>\n",
       "      <th>food_name</th>\n",
       "      <th>caff_per_mg</th>\n",
       "      <th>serving_size</th>\n",
       "      <th>url</th>\n",
       "      <th>img_url</th>\n",
       "    </tr>\n",
       "  </thead>\n",
       "  <tbody>\n",
       "    <tr>\n",
       "      <th>0</th>\n",
       "      <td>AeroLife Inhalable Caffeine</td>\n",
       "      <td>100</td>\n",
       "      <td>per dose</td>\n",
       "      <td>https://www.caffeineinformer.com//caffeine-con...</td>\n",
       "      <td>https://cdn.caffeineinformer.com/wp-content/ca...</td>\n",
       "    </tr>\n",
       "    <tr>\n",
       "      <th>1</th>\n",
       "      <td>Alert Caffeine Gum</td>\n",
       "      <td>40</td>\n",
       "      <td>per piece</td>\n",
       "      <td>https://www.caffeineinformer.com//caffeine-con...</td>\n",
       "      <td>https://cdn.caffeineinformer.com/wp-content/ca...</td>\n",
       "    </tr>\n",
       "    <tr>\n",
       "      <th>2</th>\n",
       "      <td>Alien Energy Jerky</td>\n",
       "      <td>110</td>\n",
       "      <td>per packs</td>\n",
       "      <td>https://www.caffeineinformer.com//caffeine-con...</td>\n",
       "      <td>https://cdn.caffeineinformer.com/wp-content/ca...</td>\n",
       "    </tr>\n",
       "    <tr>\n",
       "      <th>3</th>\n",
       "      <td>Anacin</td>\n",
       "      <td>32</td>\n",
       "      <td>per tablet</td>\n",
       "      <td>https://www.caffeineinformer.com//caffeine-con...</td>\n",
       "      <td>https://cdn.caffeineinformer.com/wp-content/ca...</td>\n",
       "    </tr>\n",
       "    <tr>\n",
       "      <th>4</th>\n",
       "      <td>Apples</td>\n",
       "      <td>0</td>\n",
       "      <td>per apple</td>\n",
       "      <td>https://www.caffeineinformer.com//caffeine-con...</td>\n",
       "      <td>https://cdn.caffeineinformer.com/wp-content/ca...</td>\n",
       "    </tr>\n",
       "  </tbody>\n",
       "</table>\n",
       "</div>"
      ],
      "text/plain": [
       "                     food_name  caff_per_mg serving_size  \\\n",
       "0  AeroLife Inhalable Caffeine          100     per dose   \n",
       "1           Alert Caffeine Gum           40    per piece   \n",
       "2           Alien Energy Jerky          110    per packs   \n",
       "3                       Anacin           32   per tablet   \n",
       "4                       Apples            0    per apple   \n",
       "\n",
       "                                                 url  \\\n",
       "0  https://www.caffeineinformer.com//caffeine-con...   \n",
       "1  https://www.caffeineinformer.com//caffeine-con...   \n",
       "2  https://www.caffeineinformer.com//caffeine-con...   \n",
       "3  https://www.caffeineinformer.com//caffeine-con...   \n",
       "4  https://www.caffeineinformer.com//caffeine-con...   \n",
       "\n",
       "                                             img_url  \n",
       "0  https://cdn.caffeineinformer.com/wp-content/ca...  \n",
       "1  https://cdn.caffeineinformer.com/wp-content/ca...  \n",
       "2  https://cdn.caffeineinformer.com/wp-content/ca...  \n",
       "3  https://cdn.caffeineinformer.com/wp-content/ca...  \n",
       "4  https://cdn.caffeineinformer.com/wp-content/ca...  "
      ]
     },
     "execution_count": 10,
     "metadata": {},
     "output_type": "execute_result"
    }
   ],
   "source": [
    "food.head()"
   ]
  },
  {
   "cell_type": "code",
   "execution_count": 11,
   "metadata": {},
   "outputs": [
    {
     "data": {
      "text/html": [
       "<div>\n",
       "<style scoped>\n",
       "    .dataframe tbody tr th:only-of-type {\n",
       "        vertical-align: middle;\n",
       "    }\n",
       "\n",
       "    .dataframe tbody tr th {\n",
       "        vertical-align: top;\n",
       "    }\n",
       "\n",
       "    .dataframe thead th {\n",
       "        text-align: right;\n",
       "    }\n",
       "</style>\n",
       "<table border=\"1\" class=\"dataframe\">\n",
       "  <thead>\n",
       "    <tr style=\"text-align: right;\">\n",
       "      <th></th>\n",
       "      <th>Gum_name</th>\n",
       "      <th>Caff_per_piece</th>\n",
       "      <th>Price_per_pack</th>\n",
       "      <th>Page_url</th>\n",
       "      <th>Flavor</th>\n",
       "    </tr>\n",
       "  </thead>\n",
       "  <tbody>\n",
       "    <tr>\n",
       "      <th>0</th>\n",
       "      <td>Military Energy Gum\\n(Formerly Stay Alert Gum)</td>\n",
       "      <td>100.0</td>\n",
       "      <td>1.28</td>\n",
       "      <td>https://www.caffeineinformer.com/caffeine-cont...</td>\n",
       "      <td>mint</td>\n",
       "    </tr>\n",
       "    <tr>\n",
       "      <th>1</th>\n",
       "      <td>Military Energy Gum\\n(Formerly Stay Alert Gum)</td>\n",
       "      <td>100.0</td>\n",
       "      <td>1.28</td>\n",
       "      <td>https://www.caffeineinformer.com/caffeine-cont...</td>\n",
       "      <td>cinnamon</td>\n",
       "    </tr>\n",
       "    <tr>\n",
       "      <th>2</th>\n",
       "      <td>Apollo Energy Gum</td>\n",
       "      <td>80.0</td>\n",
       "      <td>2.60</td>\n",
       "      <td>http://www.apolloenergygum.com/</td>\n",
       "      <td>spearmint</td>\n",
       "    </tr>\n",
       "    <tr>\n",
       "      <th>3</th>\n",
       "      <td>Blitz Energy Gum</td>\n",
       "      <td>55.0</td>\n",
       "      <td>2.45</td>\n",
       "      <td>None</td>\n",
       "      <td>mint original</td>\n",
       "    </tr>\n",
       "    <tr>\n",
       "      <th>4</th>\n",
       "      <td>X8 Energy Gum</td>\n",
       "      <td>50.0</td>\n",
       "      <td>4.99</td>\n",
       "      <td>https://www.caffeineinformer.com/caffeine-cont...</td>\n",
       "      <td>mint</td>\n",
       "    </tr>\n",
       "  </tbody>\n",
       "</table>\n",
       "</div>"
      ],
      "text/plain": [
       "                                         Gum_name  Caff_per_piece  \\\n",
       "0  Military Energy Gum\\n(Formerly Stay Alert Gum)           100.0   \n",
       "1  Military Energy Gum\\n(Formerly Stay Alert Gum)           100.0   \n",
       "2                               Apollo Energy Gum            80.0   \n",
       "3                                Blitz Energy Gum            55.0   \n",
       "4                                   X8 Energy Gum            50.0   \n",
       "\n",
       "   Price_per_pack                                           Page_url  \\\n",
       "0            1.28  https://www.caffeineinformer.com/caffeine-cont...   \n",
       "1            1.28  https://www.caffeineinformer.com/caffeine-cont...   \n",
       "2            2.60                    http://www.apolloenergygum.com/   \n",
       "3            2.45                                               None   \n",
       "4            4.99  https://www.caffeineinformer.com/caffeine-cont...   \n",
       "\n",
       "          Flavor  \n",
       "0           mint  \n",
       "1       cinnamon  \n",
       "2      spearmint  \n",
       "3  mint original  \n",
       "4           mint  "
      ]
     },
     "execution_count": 11,
     "metadata": {},
     "output_type": "execute_result"
    }
   ],
   "source": [
    "gum.head()"
   ]
  },
  {
   "cell_type": "code",
   "execution_count": 13,
   "metadata": {},
   "outputs": [],
   "source": [
    "# Create the Engine\n",
    "engine = create_engine(\"sqlite:///caffeine.sqlite\")"
   ]
  },
  {
   "cell_type": "code",
   "execution_count": 14,
   "metadata": {},
   "outputs": [],
   "source": [
    "# Create Base\n",
    "Base = declarative_base()"
   ]
  },
  {
   "cell_type": "code",
   "execution_count": 15,
   "metadata": {},
   "outputs": [],
   "source": [
    "# Create ORMS for table creation\n",
    "\n",
    "class Drinks(Base):\n",
    "    \n",
    "    __tablename__ = 'drinks'\n",
    "    \n",
    "    id = Column(Integer, primary_key=True)\n",
    "    drinks = Column(Text)\n",
    "    caff_cont = Column(Integer)\n",
    "    fluid_oz = Column(Float)\n",
    "    mg_per_oz = Column(Float)\n",
    "    url = Column(Text)\n",
    "    \n",
    "    def __repr__(self):\n",
    "        return f\"id={self.id}, name={self.drinks}\"\n",
    "    \n",
    "class Caffeine_info(Base):\n",
    "    \n",
    "    __tablename__ = 'caff_info'\n",
    "    \n",
    "    id = Column(Integer, primary_key=True)\n",
    "    caff_str = Column(Text)\n",
    "    item_img = Column(Text)\n",
    "    drink_name = Column(Text)\n",
    "    \n",
    "    def __repr__(self):\n",
    "        return f\"id={self.id}, name={self.caff_str}\"\n",
    "\n",
    "class Supplements(Base):\n",
    "    \n",
    "    __tablename__ = 'supplements'\n",
    "    \n",
    "    id = Column(Integer, primary_key=True)\n",
    "    supp = Column(Text)\n",
    "    caff = Column(Integer)\n",
    "    caff_source = Column(Text)\n",
    "    serving_size = Column(Text)\n",
    "    \n",
    "    def __repr__(self):\n",
    "        return f\"id={self.id}, name={self.supp}\"\n",
    "    \n",
    "\n",
    "class Food(Base):\n",
    "    \n",
    "    __tablename__ = 'food'\n",
    "    \n",
    "    id = Column(Integer, primary_key=True)\n",
    "    food_name = Column(Text)\n",
    "    caff_per_mg = Column(Float)\n",
    "    serving_size = Column(Text)\n",
    "    url = Column(Text)\n",
    "    img_url = Column(Text)\n",
    "    \n",
    "    def __repr__(self):\n",
    "        return f\"id={self.id}, name={self.food_name}\"\n",
    "\n",
    "class Gum(Base):\n",
    "    \n",
    "    __tablename__ = 'gum_info'\n",
    "    \n",
    "    id = Column(Integer, primary_key=True)\n",
    "    Gum_name = Column(Text)\n",
    "    Caff_per_piece = Column(Float)\n",
    "    Flavor = Column(Text)\n",
    "    Price_per_pack = Column(Float)\n",
    "    Page_url = Column(Text)\n",
    "    \n",
    "    def __repr__(self):\n",
    "        return f\"id={self.id}, name={self.Gum_name}\"\n",
    "    "
   ]
  },
  {
   "cell_type": "code",
   "execution_count": 16,
   "metadata": {},
   "outputs": [],
   "source": [
    "# Create tables\n",
    "Base.metadata.create_all(engine)"
   ]
  },
  {
   "cell_type": "code",
   "execution_count": 17,
   "metadata": {},
   "outputs": [
    {
     "data": {
      "text/plain": [
       "['caff_info', 'drinks', 'food', 'gum_info', 'supplements']"
      ]
     },
     "execution_count": 17,
     "metadata": {},
     "output_type": "execute_result"
    }
   ],
   "source": [
    "# List table names to check if they are created\n",
    "engine.table_names()"
   ]
  },
  {
   "cell_type": "code",
   "execution_count": 18,
   "metadata": {},
   "outputs": [],
   "source": [
    "# Function to add data\n",
    "def populate_table(engine,table,csvfile):\n",
    "    \n",
    "    conn = engine.connect()\n",
    "    df_to_insert = pd.read_csv(csvfile)\n",
    "    data = df_to_insert.to_dict(orient='records')\n",
    "    conn.execute(table.delete())\n",
    "    conn.execute(table.insert(),data)"
   ]
  },
  {
   "cell_type": "code",
   "execution_count": 19,
   "metadata": {},
   "outputs": [],
   "source": [
    "# Testing function on one table\n",
    "populate_table(engine,Drinks.__table__,\"CSVs/All_drink_info.csv\")"
   ]
  },
  {
   "cell_type": "code",
   "execution_count": 20,
   "metadata": {},
   "outputs": [
    {
     "data": {
      "text/plain": [
       "[(1, '10 Hour Energy Shot', 422, 1.93, 218.7, 'https://www.caffeineinformer.com/caffeine-content/10-hour-eternal-shot'),\n",
       " (2, '28 Black Energy Drink', 80, 8.46, 9.5, 'https://www.caffeineinformer.com/caffeine-content/28-energy-drink-black-white'),\n",
       " (3, '3 Water ', 50, 16.9, 3.0, 'https://www.caffeineinformer.com/caffeine-content/3-caffeine-water'),\n",
       " (4, '3D Energy Drink', 200, 16.0, 12.5, 'https://www.caffeineinformer.com/caffeine-content/3d-energy-drink'),\n",
       " (5, '4 Purpose Energy Drink', 70, 8.46, 8.3, 'https://www.caffeineinformer.com/caffeine-content/4-purpose'),\n",
       " (6, '4C Energy Liquid Water Enhancers', 60, 8.0, 7.5, 'https://www.caffeineinformer.com/caffeine-content/4c-energy-water-enhancers'),\n",
       " (7, '4C Energy Rush', 80, 8.0, 10.0, 'https://www.caffeineinformer.com/caffeine-content/4-c-energy-rush'),\n",
       " (8, '5 Hour Energy', 200, 2.0, 100.0, 'https://www.caffeineinformer.com/caffeine-content/5-hour-energy'),\n",
       " (9, '5 Hour Energy Decaf', 6, 2.0, 3.0, 'https://www.caffeineinformer.com/caffeine-content/5-hour-decaf'),\n",
       " (10, '5 Hour Energy Extra Strength', 230, 2.0, 115.0, 'https://www.caffeineinformer.com/caffeine-content/5-hour-extra-strength')]"
      ]
     },
     "execution_count": 20,
     "metadata": {},
     "output_type": "execute_result"
    }
   ],
   "source": [
    "# Passing raw SQL query to test if the load was successful\n",
    "engine.execute(\"SELECT * FROM drinks LIMIT 10\").fetchall()"
   ]
  },
  {
   "cell_type": "code",
   "execution_count": 21,
   "metadata": {},
   "outputs": [],
   "source": [
    "# Populating the tables\n",
    "populate_table(engine,Caffeine_info.__table__,\"CSVs/Caffeine_intensity.csv\")\n",
    "populate_table(engine,Supplements.__table__,\"CSVs/Workout Supps.csv\")\n",
    "populate_table(engine,Food.__table__,\"CSVs/Food.csv\")\n",
    "populate_table(engine,Gum.__table__,\"CSVs/Gum.csv\")"
   ]
  },
  {
   "cell_type": "code",
   "execution_count": 22,
   "metadata": {},
   "outputs": [],
   "source": [
    "# Preparing the tables for query testing\n",
    "Base = automap_base()\n",
    "Base.prepare(engine, reflect=True)"
   ]
  },
  {
   "cell_type": "code",
   "execution_count": 23,
   "metadata": {},
   "outputs": [
    {
     "data": {
      "text/plain": [
       "['caff_info', 'drinks', 'food', 'gum_info', 'supplements']"
      ]
     },
     "execution_count": 23,
     "metadata": {},
     "output_type": "execute_result"
    }
   ],
   "source": [
    "Base.classes.keys()"
   ]
  },
  {
   "cell_type": "code",
   "execution_count": 24,
   "metadata": {},
   "outputs": [],
   "source": [
    "Drinks = Base.classes.drinks\n",
    "session = Session(engine)"
   ]
  },
  {
   "cell_type": "code",
   "execution_count": 25,
   "metadata": {},
   "outputs": [],
   "source": [
    "drink_list = session.query(Drinks).\\\n",
    "    filter(Drinks.caff_cont >= 400).all()"
   ]
  },
  {
   "cell_type": "code",
   "execution_count": 26,
   "metadata": {},
   "outputs": [
    {
     "data": {
      "text/plain": [
       "[{'Drink Name': '10 Hour Energy Shot',\n",
       "  'Caffeine Content': 422,\n",
       "  'Serving Size Fluid OZ': 1.93,\n",
       "  'MG per oz': 218.7},\n",
       " {'Drink Name': 'Biohazard Coffee',\n",
       "  'Caffeine Content': 928,\n",
       "  'Serving Size Fluid OZ': 12.0,\n",
       "  'MG per oz': 77.3},\n",
       " {'Drink Name': 'Bizzy Cold Brew',\n",
       "  'Caffeine Content': 750,\n",
       "  'Serving Size Fluid OZ': 16.0,\n",
       "  'MG per oz': 46.9},\n",
       " {'Drink Name': 'Black Insomnia Coffee',\n",
       "  'Caffeine Content': 1105,\n",
       "  'Serving Size Fluid OZ': 12.0,\n",
       "  'MG per oz': 92.1},\n",
       " {'Drink Name': 'Black Label Brewed Coffee',\n",
       "  'Caffeine Content': 1555,\n",
       "  'Serving Size Fluid OZ': 12.0,\n",
       "  'MG per oz': 129.6},\n",
       " {'Drink Name': 'Cannonball Coffee Maximum Charge',\n",
       "  'Caffeine Content': 1101,\n",
       "  'Serving Size Fluid OZ': 12.0,\n",
       "  'MG per oz': 91.8},\n",
       " {'Drink Name': 'Coffee Crave Fearless Black',\n",
       "  'Caffeine Content': 844,\n",
       "  'Serving Size Fluid OZ': 12.0,\n",
       "  'MG per oz': 70.3},\n",
       " {'Drink Name': 'Death Wish Coffee',\n",
       "  'Caffeine Content': 728,\n",
       "  'Serving Size Fluid OZ': 12.0,\n",
       "  'MG per oz': 60.7},\n",
       " {'Drink Name': 'High Voltage Coffee',\n",
       "  'Caffeine Content': 1150,\n",
       "  'Serving Size Fluid OZ': 12.0,\n",
       "  'MG per oz': 95.8},\n",
       " {'Drink Name': 'Killer Coffee',\n",
       "  'Caffeine Content': 430,\n",
       "  'Serving Size Fluid OZ': 8.46,\n",
       "  'MG per oz': 50.8},\n",
       " {'Drink Name': 'Liquid Caffeine',\n",
       "  'Caffeine Content': 500,\n",
       "  'Serving Size Fluid OZ': 1.0,\n",
       "  'MG per oz': 500.0},\n",
       " {'Drink Name': 'Starbucks Classics Caffe Mocha',\n",
       "  'Caffeine Content': 510,\n",
       "  'Serving Size Fluid OZ': 48.0,\n",
       "  'MG per oz': 10.6},\n",
       " {'Drink Name': 'Stipe Miocic Extra Strength Coffee',\n",
       "  'Caffeine Content': 500,\n",
       "  'Serving Size Fluid OZ': 12.0,\n",
       "  'MG per oz': 41.7},\n",
       " {'Drink Name': 'Taft Coffee',\n",
       "  'Caffeine Content': 1182,\n",
       "  'Serving Size Fluid OZ': 12.0,\n",
       "  'MG per oz': 98.5},\n",
       " {'Drink Name': 'Very Strong Coffee',\n",
       "  'Caffeine Content': 1350,\n",
       "  'Serving Size Fluid OZ': 12.0,\n",
       "  'MG per oz': 112.5}]"
      ]
     },
     "execution_count": 26,
     "metadata": {},
     "output_type": "execute_result"
    }
   ],
   "source": [
    "drinklist = []\n",
    "for d in drink_list:\n",
    "    minitem = {}\n",
    "    minitem['Drink Name'] = d.drinks\n",
    "    minitem['Caffeine Content'] = d.caff_cont\n",
    "    minitem['Serving Size Fluid OZ'] = d.fluid_oz\n",
    "    minitem['MG per oz'] = d.mg_per_oz\n",
    "    drinklist.append(minitem)\n",
    "drinklist"
   ]
  },
  {
   "cell_type": "code",
   "execution_count": null,
   "metadata": {},
   "outputs": [],
   "source": []
  }
 ],
 "metadata": {
  "kernelspec": {
   "display_name": "Python 3",
   "language": "python",
   "name": "python3"
  },
  "language_info": {
   "codemirror_mode": {
    "name": "ipython",
    "version": 3
   },
   "file_extension": ".py",
   "mimetype": "text/x-python",
   "name": "python",
   "nbconvert_exporter": "python",
   "pygments_lexer": "ipython3",
   "version": "3.7.7"
  }
 },
 "nbformat": 4,
 "nbformat_minor": 4
}
