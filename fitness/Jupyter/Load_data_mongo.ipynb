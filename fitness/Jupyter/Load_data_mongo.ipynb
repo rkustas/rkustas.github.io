{
 "cells": [
  {
   "cell_type": "code",
   "execution_count": 1,
   "metadata": {},
   "outputs": [],
   "source": [
    "import pymongo\n",
    "import pandas as pd\n",
    "import numpy as np\n",
    "import os"
   ]
  },
  {
   "cell_type": "code",
   "execution_count": 2,
   "metadata": {},
   "outputs": [
    {
     "data": {
      "text/plain": [
       "'C:\\\\Users\\\\rkustas\\\\.ipython'"
      ]
     },
     "execution_count": 2,
     "metadata": {},
     "output_type": "execute_result"
    }
   ],
   "source": [
    "import sys\n",
    "sys.path[-1]"
   ]
  },
  {
   "cell_type": "code",
   "execution_count": 3,
   "metadata": {},
   "outputs": [],
   "source": [
    "# Create the connection to mongo\n",
    "conn = 'mongodb://localhost:27017'\n",
    "client = pymongo.MongoClient(conn)"
   ]
  },
  {
   "cell_type": "code",
   "execution_count": 4,
   "metadata": {},
   "outputs": [
    {
     "data": {
      "text/plain": [
       "'C:\\\\Users\\\\rkustas\\\\OneDrive - ogg.com\\\\DU_class\\\\Crossfit\\\\Jupyter'"
      ]
     },
     "execution_count": 4,
     "metadata": {},
     "output_type": "execute_result"
    }
   ],
   "source": [
    "# Check current directory path\n",
    "os.getcwd()"
   ]
  },
  {
   "cell_type": "code",
   "execution_count": 5,
   "metadata": {},
   "outputs": [
    {
     "data": {
      "text/html": [
       "<div>\n",
       "<style scoped>\n",
       "    .dataframe tbody tr th:only-of-type {\n",
       "        vertical-align: middle;\n",
       "    }\n",
       "\n",
       "    .dataframe tbody tr th {\n",
       "        vertical-align: top;\n",
       "    }\n",
       "\n",
       "    .dataframe thead th {\n",
       "        text-align: right;\n",
       "    }\n",
       "</style>\n",
       "<table border=\"1\" class=\"dataframe\">\n",
       "  <thead>\n",
       "    <tr style=\"text-align: right;\">\n",
       "      <th></th>\n",
       "      <th>Competitor_id</th>\n",
       "      <th>Competitor_name</th>\n",
       "      <th>Event_num</th>\n",
       "      <th>Event_rank</th>\n",
       "      <th>Event_score</th>\n",
       "      <th>Event_score_display</th>\n",
       "      <th>Event_year</th>\n",
       "      <th>Event_time</th>\n",
       "      <th>Event_judge</th>\n",
       "      <th>Event_score_units</th>\n",
       "    </tr>\n",
       "  </thead>\n",
       "  <tbody>\n",
       "    <tr>\n",
       "      <th>0</th>\n",
       "      <td>153604</td>\n",
       "      <td>Mathew Fraser</td>\n",
       "      <td>1</td>\n",
       "      <td>4</td>\n",
       "      <td>14760000</td>\n",
       "      <td>476</td>\n",
       "      <td>2018</td>\n",
       "      <td>0.0</td>\n",
       "      <td>Anthony Jay Wilkerson</td>\n",
       "      <td>reps</td>\n",
       "    </tr>\n",
       "    <tr>\n",
       "      <th>1</th>\n",
       "      <td>153604</td>\n",
       "      <td>Mathew Fraser</td>\n",
       "      <td>2</td>\n",
       "      <td>49</td>\n",
       "      <td>11100478</td>\n",
       "      <td>4:02</td>\n",
       "      <td>2018</td>\n",
       "      <td>242.0</td>\n",
       "      <td>Matt O'Keefe</td>\n",
       "      <td>NaN</td>\n",
       "    </tr>\n",
       "    <tr>\n",
       "      <th>2</th>\n",
       "      <td>153604</td>\n",
       "      <td>Mathew Fraser</td>\n",
       "      <td>3</td>\n",
       "      <td>21</td>\n",
       "      <td>13800478</td>\n",
       "      <td>380</td>\n",
       "      <td>2018</td>\n",
       "      <td>242.0</td>\n",
       "      <td>Matt O'Keefe</td>\n",
       "      <td>lb</td>\n",
       "    </tr>\n",
       "    <tr>\n",
       "      <th>3</th>\n",
       "      <td>153604</td>\n",
       "      <td>Mathew Fraser</td>\n",
       "      <td>4</td>\n",
       "      <td>17</td>\n",
       "      <td>19160001</td>\n",
       "      <td>916</td>\n",
       "      <td>2018</td>\n",
       "      <td>839.0</td>\n",
       "      <td>Darren Hunsucker</td>\n",
       "      <td>reps</td>\n",
       "    </tr>\n",
       "    <tr>\n",
       "      <th>4</th>\n",
       "      <td>153604</td>\n",
       "      <td>Mathew Fraser</td>\n",
       "      <td>5</td>\n",
       "      <td>5</td>\n",
       "      <td>11650141</td>\n",
       "      <td>6:39</td>\n",
       "      <td>2018</td>\n",
       "      <td>399.0</td>\n",
       "      <td>Angelo Dicicco</td>\n",
       "      <td>NaN</td>\n",
       "    </tr>\n",
       "  </tbody>\n",
       "</table>\n",
       "</div>"
      ],
      "text/plain": [
       "   Competitor_id Competitor_name  Event_num  Event_rank  Event_score  \\\n",
       "0         153604   Mathew Fraser          1           4     14760000   \n",
       "1         153604   Mathew Fraser          2          49     11100478   \n",
       "2         153604   Mathew Fraser          3          21     13800478   \n",
       "3         153604   Mathew Fraser          4          17     19160001   \n",
       "4         153604   Mathew Fraser          5           5     11650141   \n",
       "\n",
       "  Event_score_display  Event_year  Event_time            Event_judge  \\\n",
       "0                 476        2018         0.0  Anthony Jay Wilkerson   \n",
       "1                4:02        2018       242.0           Matt O'Keefe   \n",
       "2                 380        2018       242.0           Matt O'Keefe   \n",
       "3                 916        2018       839.0       Darren Hunsucker   \n",
       "4                6:39        2018       399.0         Angelo Dicicco   \n",
       "\n",
       "  Event_score_units  \n",
       "0              reps  \n",
       "1               NaN  \n",
       "2                lb  \n",
       "3              reps  \n",
       "4               NaN  "
      ]
     },
     "execution_count": 5,
     "metadata": {},
     "output_type": "execute_result"
    }
   ],
   "source": [
    "# Load sample of CSVs\n",
    "event_path = \"../CSVs/events.csv\"\n",
    "event_df = pd.read_csv(event_path)\n",
    "event_df.head()"
   ]
  },
  {
   "cell_type": "code",
   "execution_count": 6,
   "metadata": {},
   "outputs": [],
   "source": [
    "# Create the database\n",
    "db = client.crossfit"
   ]
  },
  {
   "cell_type": "code",
   "execution_count": 7,
   "metadata": {},
   "outputs": [
    {
     "data": {
      "text/plain": [
       "<pymongo.results.InsertManyResult at 0x19113b53f88>"
      ]
     },
     "execution_count": 7,
     "metadata": {},
     "output_type": "execute_result"
    }
   ],
   "source": [
    "# Converting df to dictionary to load many entries at once\n",
    "event_data = event_df.to_dict(orient='records')\n",
    "db.event_data.insert_many(event_data)"
   ]
  },
  {
   "cell_type": "code",
   "execution_count": 8,
   "metadata": {},
   "outputs": [
    {
     "data": {
      "text/html": [
       "<div>\n",
       "<style scoped>\n",
       "    .dataframe tbody tr th:only-of-type {\n",
       "        vertical-align: middle;\n",
       "    }\n",
       "\n",
       "    .dataframe tbody tr th {\n",
       "        vertical-align: top;\n",
       "    }\n",
       "\n",
       "    .dataframe thead th {\n",
       "        text-align: right;\n",
       "    }\n",
       "</style>\n",
       "<table border=\"1\" class=\"dataframe\">\n",
       "  <thead>\n",
       "    <tr style=\"text-align: right;\">\n",
       "      <th></th>\n",
       "      <th>Competitor_id</th>\n",
       "      <th>Competitor_name</th>\n",
       "      <th>first_name</th>\n",
       "      <th>last_name</th>\n",
       "      <th>status</th>\n",
       "      <th>gender</th>\n",
       "      <th>region_name</th>\n",
       "      <th>affiliate_id</th>\n",
       "      <th>affiliate_name</th>\n",
       "      <th>age</th>\n",
       "      <th>height</th>\n",
       "      <th>weight</th>\n",
       "    </tr>\n",
       "  </thead>\n",
       "  <tbody>\n",
       "    <tr>\n",
       "      <th>0</th>\n",
       "      <td>153604</td>\n",
       "      <td>Mathew Fraser</td>\n",
       "      <td>Mathew</td>\n",
       "      <td>Fraser</td>\n",
       "      <td>ACT</td>\n",
       "      <td>M</td>\n",
       "      <td>Central East</td>\n",
       "      <td>3220</td>\n",
       "      <td>CrossFit Mayhem</td>\n",
       "      <td>28</td>\n",
       "      <td>67.0</td>\n",
       "      <td>195.0</td>\n",
       "    </tr>\n",
       "    <tr>\n",
       "      <th>1</th>\n",
       "      <td>180541</td>\n",
       "      <td>Alex Vigneault</td>\n",
       "      <td>Alex</td>\n",
       "      <td>Vigneault</td>\n",
       "      <td>ACT</td>\n",
       "      <td>M</td>\n",
       "      <td>Canada East</td>\n",
       "      <td>10990</td>\n",
       "      <td>CrossFit Quebec City</td>\n",
       "      <td>26</td>\n",
       "      <td>71.0</td>\n",
       "      <td>208.0</td>\n",
       "    </tr>\n",
       "    <tr>\n",
       "      <th>2</th>\n",
       "      <td>702092</td>\n",
       "      <td>Willy Georges</td>\n",
       "      <td>Willy</td>\n",
       "      <td>Georges</td>\n",
       "      <td>ACT</td>\n",
       "      <td>M</td>\n",
       "      <td>Europe South</td>\n",
       "      <td>16786</td>\n",
       "      <td>CrossFit DBS 83</td>\n",
       "      <td>25</td>\n",
       "      <td>70.5</td>\n",
       "      <td>155.1</td>\n",
       "    </tr>\n",
       "    <tr>\n",
       "      <th>3</th>\n",
       "      <td>308712</td>\n",
       "      <td>Jean-Simon Roy-Lemaire</td>\n",
       "      <td>Jean-Simon</td>\n",
       "      <td>Roy-Lemaire</td>\n",
       "      <td>ACT</td>\n",
       "      <td>M</td>\n",
       "      <td>Canada East</td>\n",
       "      <td>4459</td>\n",
       "      <td>Tonic CrossFit</td>\n",
       "      <td>24</td>\n",
       "      <td>69.3</td>\n",
       "      <td>195.0</td>\n",
       "    </tr>\n",
       "    <tr>\n",
       "      <th>4</th>\n",
       "      <td>158264</td>\n",
       "      <td>Patrick Vellner</td>\n",
       "      <td>Patrick</td>\n",
       "      <td>Vellner</td>\n",
       "      <td>ACT</td>\n",
       "      <td>M</td>\n",
       "      <td>Canada East</td>\n",
       "      <td>6214</td>\n",
       "      <td>CrossFit Solid Ground (inactive)</td>\n",
       "      <td>28</td>\n",
       "      <td>71.0</td>\n",
       "      <td>195.0</td>\n",
       "    </tr>\n",
       "  </tbody>\n",
       "</table>\n",
       "</div>"
      ],
      "text/plain": [
       "   Competitor_id         Competitor_name  first_name    last_name status  \\\n",
       "0         153604           Mathew Fraser      Mathew       Fraser    ACT   \n",
       "1         180541          Alex Vigneault        Alex    Vigneault    ACT   \n",
       "2         702092           Willy Georges       Willy      Georges    ACT   \n",
       "3         308712  Jean-Simon Roy-Lemaire  Jean-Simon  Roy-Lemaire    ACT   \n",
       "4         158264         Patrick Vellner     Patrick      Vellner    ACT   \n",
       "\n",
       "  gender   region_name  affiliate_id                    affiliate_name  age  \\\n",
       "0      M  Central East          3220                   CrossFit Mayhem   28   \n",
       "1      M   Canada East         10990              CrossFit Quebec City   26   \n",
       "2      M  Europe South         16786                   CrossFit DBS 83   25   \n",
       "3      M   Canada East          4459                    Tonic CrossFit   24   \n",
       "4      M   Canada East          6214  CrossFit Solid Ground (inactive)   28   \n",
       "\n",
       "   height  weight  \n",
       "0    67.0   195.0  \n",
       "1    71.0   208.0  \n",
       "2    70.5   155.1  \n",
       "3    69.3   195.0  \n",
       "4    71.0   195.0  "
      ]
     },
     "execution_count": 8,
     "metadata": {},
     "output_type": "execute_result"
    }
   ],
   "source": [
    "# Load other files\n",
    "ath_path = \"../CSVs/athletes.csv\"\n",
    "athletes = pd.read_csv(ath_path)\n",
    "athletes.head()"
   ]
  },
  {
   "cell_type": "code",
   "execution_count": 9,
   "metadata": {},
   "outputs": [
    {
     "data": {
      "text/plain": [
       "<pymongo.results.InsertManyResult at 0x190c110cfc8>"
      ]
     },
     "execution_count": 9,
     "metadata": {},
     "output_type": "execute_result"
    }
   ],
   "source": [
    "# Convert to dictionary to load many athletes all at once\n",
    "ath_data = athletes.to_dict(orient='records')\n",
    "db.athletes.insert_many(ath_data)"
   ]
  },
  {
   "cell_type": "code",
   "execution_count": 10,
   "metadata": {},
   "outputs": [
    {
     "data": {
      "text/html": [
       "<div>\n",
       "<style scoped>\n",
       "    .dataframe tbody tr th:only-of-type {\n",
       "        vertical-align: middle;\n",
       "    }\n",
       "\n",
       "    .dataframe tbody tr th {\n",
       "        vertical-align: top;\n",
       "    }\n",
       "\n",
       "    .dataframe thead th {\n",
       "        text-align: right;\n",
       "    }\n",
       "</style>\n",
       "<table border=\"1\" class=\"dataframe\">\n",
       "  <thead>\n",
       "    <tr style=\"text-align: right;\">\n",
       "      <th></th>\n",
       "      <th>Affiliate_id</th>\n",
       "      <th>Affiliate_name</th>\n",
       "      <th>Address</th>\n",
       "      <th>City</th>\n",
       "      <th>State</th>\n",
       "      <th>Zip</th>\n",
       "      <th>Country</th>\n",
       "      <th>Website</th>\n",
       "      <th>Phone</th>\n",
       "      <th>Latitude</th>\n",
       "      <th>Longitude</th>\n",
       "    </tr>\n",
       "  </thead>\n",
       "  <tbody>\n",
       "    <tr>\n",
       "      <th>0</th>\n",
       "      <td>3</td>\n",
       "      <td>CrossFit Persist</td>\n",
       "      <td>165 Amboy Ave, #705</td>\n",
       "      <td>Morganville</td>\n",
       "      <td>NJ</td>\n",
       "      <td>7751</td>\n",
       "      <td>United States</td>\n",
       "      <td>http://www.crossfitpersist.com/</td>\n",
       "      <td>(732) 687-1050</td>\n",
       "      <td>40.3604</td>\n",
       "      <td>-74.2894</td>\n",
       "    </tr>\n",
       "    <tr>\n",
       "      <th>1</th>\n",
       "      <td>4</td>\n",
       "      <td>Far North CrossFit</td>\n",
       "      <td>17 Finlayson Street</td>\n",
       "      <td>Whangarei</td>\n",
       "      <td>Northland</td>\n",
       "      <td>110</td>\n",
       "      <td>New Zealand</td>\n",
       "      <td>http://www.farnorthcrossfit.com</td>\n",
       "      <td>021 022 09234</td>\n",
       "      <td>-35.7270</td>\n",
       "      <td>174.3274</td>\n",
       "    </tr>\n",
       "    <tr>\n",
       "      <th>2</th>\n",
       "      <td>5</td>\n",
       "      <td>CrossFit Dubuque</td>\n",
       "      <td>3080 Cedar Crest Ct.</td>\n",
       "      <td>Dubuque</td>\n",
       "      <td>IA</td>\n",
       "      <td>52003</td>\n",
       "      <td>United States</td>\n",
       "      <td>http://crossfitdubuque.com/</td>\n",
       "      <td>(563) 552-8423</td>\n",
       "      <td>42.4787</td>\n",
       "      <td>-90.7068</td>\n",
       "    </tr>\n",
       "    <tr>\n",
       "      <th>3</th>\n",
       "      <td>6</td>\n",
       "      <td>Ballston CrossFit</td>\n",
       "      <td>1110 North Glebe Rd</td>\n",
       "      <td>Arlington</td>\n",
       "      <td>VA</td>\n",
       "      <td>22201</td>\n",
       "      <td>United States</td>\n",
       "      <td>http://www.ballstoncrossfit.com/</td>\n",
       "      <td>(703) 688-2238</td>\n",
       "      <td>38.8838</td>\n",
       "      <td>-77.1172</td>\n",
       "    </tr>\n",
       "    <tr>\n",
       "      <th>4</th>\n",
       "      <td>8</td>\n",
       "      <td>CrossFit Moorabbin</td>\n",
       "      <td>16 Coachranes Road</td>\n",
       "      <td>Moorabbin</td>\n",
       "      <td>VIC</td>\n",
       "      <td>3189</td>\n",
       "      <td>Australia</td>\n",
       "      <td>http://www.crossfitmoorabbin.com</td>\n",
       "      <td>+61 (0)418 565 065</td>\n",
       "      <td>-37.9424</td>\n",
       "      <td>145.0619</td>\n",
       "    </tr>\n",
       "  </tbody>\n",
       "</table>\n",
       "</div>"
      ],
      "text/plain": [
       "   Affiliate_id      Affiliate_name               Address         City  \\\n",
       "0             3    CrossFit Persist   165 Amboy Ave, #705  Morganville   \n",
       "1             4  Far North CrossFit   17 Finlayson Street    Whangarei   \n",
       "2             5    CrossFit Dubuque  3080 Cedar Crest Ct.      Dubuque   \n",
       "3             6   Ballston CrossFit   1110 North Glebe Rd    Arlington   \n",
       "4             8  CrossFit Moorabbin    16 Coachranes Road    Moorabbin   \n",
       "\n",
       "       State    Zip        Country                           Website  \\\n",
       "0         NJ   7751  United States   http://www.crossfitpersist.com/   \n",
       "1  Northland    110    New Zealand   http://www.farnorthcrossfit.com   \n",
       "2         IA  52003  United States       http://crossfitdubuque.com/   \n",
       "3         VA  22201  United States  http://www.ballstoncrossfit.com/   \n",
       "4        VIC   3189      Australia  http://www.crossfitmoorabbin.com   \n",
       "\n",
       "                Phone  Latitude  Longitude  \n",
       "0      (732) 687-1050   40.3604   -74.2894  \n",
       "1       021 022 09234  -35.7270   174.3274  \n",
       "2      (563) 552-8423   42.4787   -90.7068  \n",
       "3      (703) 688-2238   38.8838   -77.1172  \n",
       "4  +61 (0)418 565 065  -37.9424   145.0619  "
      ]
     },
     "execution_count": 10,
     "metadata": {},
     "output_type": "execute_result"
    }
   ],
   "source": [
    "# Load affiliates\n",
    "aff_path = \"../CSVs/Affiliate_info.csv\"\n",
    "affiliate = pd.read_csv(aff_path)\n",
    "affiliate.head()"
   ]
  },
  {
   "cell_type": "code",
   "execution_count": 11,
   "metadata": {},
   "outputs": [
    {
     "data": {
      "text/plain": [
       "<pymongo.results.InsertManyResult at 0x190e569f848>"
      ]
     },
     "execution_count": 11,
     "metadata": {},
     "output_type": "execute_result"
    }
   ],
   "source": [
    "# Convert to dictionary to load affiliates\n",
    "aff_data = affiliate.to_dict(orient='records')\n",
    "db.affiliates.insert_many(aff_data)"
   ]
  },
  {
   "cell_type": "code",
   "execution_count": null,
   "metadata": {},
   "outputs": [],
   "source": []
  }
 ],
 "metadata": {
  "kernelspec": {
   "display_name": "Python 3",
   "language": "python",
   "name": "python3"
  },
  "language_info": {
   "codemirror_mode": {
    "name": "ipython",
    "version": 3
   },
   "file_extension": ".py",
   "mimetype": "text/x-python",
   "name": "python",
   "nbconvert_exporter": "python",
   "pygments_lexer": "ipython3",
   "version": "3.7.6"
  }
 },
 "nbformat": 4,
 "nbformat_minor": 2
}
